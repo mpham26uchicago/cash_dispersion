{
 "cells": [
  {
   "cell_type": "markdown",
   "metadata": {},
   "source": [
    "Then there exist positive constant $\\epsilon$ and $\\delta$ such that, for every \n",
    "\n",
    "$$f \\in U = \\{f \\in L^\\infty(\\mathbb{R}^+; \\mathbb{R}^n) \\ | \\ ||f||_{L^\\infty(\\mathbb{R}^+)} \\leq \\epsilon\\},$$\n",
    "\n",
    "there is a unique solution $x(f) \\in L^\\infty(\\mathbb{R}^+; \\mathbb{R}^n)$ of the half-line equation with $||x(f)||_{L^\\infty(\\mathbb{R}^+)} \\leq \\delta$.\n",
    "\n",
    "In our cases, we have that $f(t) = e_2(t) + \\frac{\\mu}{\\nu} \\left(1-e^{\\nu e^{-t}}\\right).$ From Equation 29 of the paper, we deduce that \n",
    "\n",
    "$$||f||\\_{L^\\infty(\\mathbb{R})} \\leq \\mu + e^{\\mu-1} + \\frac{\\mu}{\\nu}(e^{\\nu}-1).$$\n",
    "\n",
    "From the proof of Theorem 3.2 on page 319, we want to choose $\\delta$ so that \n",
    "\n",
    "$$||b_\\delta||_{L^1(\\mathbb{R})} \\leq \\frac{c}{1+||r||_{L^1(\\mathbb{R})}}, \\quad |c|<1.$$\n",
    "\n",
    "We overestimate \n",
    "\n",
    "\\begin{align}||r||_{L^1(\\mathbb{R})} = \\left|\\left| \\sum_{j=1}^\\infty(-1)^{j-1}k^{\\ast j}\\right|\\right|_{L^1(\\mathbb{R})} \\leq \\sum_{j=1}^\\infty ||k||_{L^1(\\mathbb{R})}^j = \\frac{1}{1-||k||_{L^1(\\mathbb{R})}}\\end{align} \n",
    "\n",
    "This is possible because for all $\\mu>1$, (prove this)\n",
    "\n",
    "$$||k||_{L^1(\\mathbb{R})} = \\int_0^\\infty \\mu e^{-2t}e^{\\nu(e^{-t}-1)} dt < 1.$$\n",
    "\n",
    "On page 320, the allowable limit for $\\epsilon$ is given by\n",
    "\n",
    "$$\\epsilon = \\frac{c\\delta}{1+||r||_{L^1(\\mathbb{R})}}.$$"
   ]
  },
  {
   "cell_type": "markdown",
   "metadata": {},
   "source": [
    "We plot $\\delta$ for $1<\\mu<3$. This is done by solving \n",
    "\n",
    "$$\\left|\\mu \\int_0^\\infty e^{-2t}\\left((\\delta +e^\\nu)^{(e^{-t}-1)} - e^{\\nu(e^{-t}-1)}\\right) dt\\right| = \\frac{c}{1+||r||_{L^1(\\mathbb{R})}}$$"
   ]
  },
  {
   "cell_type": "markdown",
   "metadata": {},
   "source": []
  }
 ],
 "metadata": {
  "kernelspec": {
   "display_name": "Python 3.10",
   "language": "python",
   "name": "python3.10"
  },
  "language_info": {
   "codemirror_mode": {
    "name": "ipython",
    "version": 3
   },
   "file_extension": ".py",
   "mimetype": "text/x-python",
   "name": "python",
   "nbconvert_exporter": "python",
   "pygments_lexer": "ipython3",
   "version": "3.10.4"
  }
 },
 "nbformat": 4,
 "nbformat_minor": 2
}
